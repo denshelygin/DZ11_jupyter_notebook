{
 "cells": [
  {
   "cell_type": "code",
   "execution_count": 1,
   "id": "37900b15",
   "metadata": {},
   "outputs": [],
   "source": [
    "from sympy import *"
   ]
  },
  {
   "cell_type": "code",
   "execution_count": 2,
   "id": "09e7b201",
   "metadata": {},
   "outputs": [],
   "source": [
    "x = Symbol(\"x\")\n",
    "a = Symbol(\"a\")"
   ]
  },
  {
   "cell_type": "markdown",
   "id": "97ec2d1d",
   "metadata": {},
   "source": [
    "**Функция**"
   ]
  },
  {
   "cell_type": "code",
   "execution_count": 4,
   "id": "2681661f",
   "metadata": {},
   "outputs": [
    {
     "data": {
      "text/latex": [
       "$\\displaystyle \\left(\\frac{\\sin{\\left(x \\right)}}{2} + \\frac{\\cos{\\left(x \\right)}}{2}\\right)^{2} \\sin{\\left(x \\right)}$"
      ],
      "text/plain": [
       "(sin(x)/2 + cos(x)/2)**2*sin(x)"
      ]
     },
     "execution_count": 4,
     "metadata": {},
     "output_type": "execute_result"
    }
   ],
   "source": [
    "function = (sin(x)/2 + cos(x)/2) ** 2 * sin(x)\n",
    "function"
   ]
  },
  {
   "cell_type": "markdown",
   "id": "e242d453",
   "metadata": {},
   "source": [
    "**Определение корней**"
   ]
  },
  {
   "cell_type": "code",
   "execution_count": 5,
   "id": "b1b08611",
   "metadata": {},
   "outputs": [
    {
     "data": {
      "text/plain": [
       "[0, -pi/4, 3*pi/4, pi]"
      ]
     },
     "execution_count": 5,
     "metadata": {},
     "output_type": "execute_result"
    }
   ],
   "source": [
    "solve(function, x)"
   ]
  },
  {
   "cell_type": "code",
   "execution_count": 6,
   "id": "03167559",
   "metadata": {},
   "outputs": [
    {
     "data": {
      "text/latex": [
       "$\\displaystyle \\left\\{2 n \\pi\\; \\middle|\\; n \\in \\mathbb{Z}\\right\\} \\cup \\left\\{2 n \\pi + \\pi\\; \\middle|\\; n \\in \\mathbb{Z}\\right\\} \\cup \\left\\{2 n \\pi + \\frac{3 \\pi}{4}\\; \\middle|\\; n \\in \\mathbb{Z}\\right\\} \\cup \\left\\{2 n \\pi + \\frac{7 \\pi}{4}\\; \\middle|\\; n \\in \\mathbb{Z}\\right\\}$"
      ],
      "text/plain": [
       "Union(ImageSet(Lambda(_n, 2*_n*pi + 3*pi/4), Integers), ImageSet(Lambda(_n, 2*_n*pi + 7*pi/4), Integers), ImageSet(Lambda(_n, 2*_n*pi + pi), Integers), ImageSet(Lambda(_n, 2*_n*pi), Integers))"
      ]
     },
     "execution_count": 6,
     "metadata": {},
     "output_type": "execute_result"
    }
   ],
   "source": [
    "solveset(function, x) "
   ]
  },
  {
   "cell_type": "markdown",
   "id": "4719f693",
   "metadata": {},
   "source": [
    "**Интервалы, на которых функция возрастает**"
   ]
  },
  {
   "cell_type": "code",
   "execution_count": 8,
   "id": "39c4a3ea",
   "metadata": {},
   "outputs": [
    {
     "data": {
      "text/latex": [
       "$\\displaystyle \\left(- \\sin{\\left(x \\right)} + \\cos{\\left(x \\right)}\\right) \\left(\\frac{\\sin{\\left(x \\right)}}{2} + \\frac{\\cos{\\left(x \\right)}}{2}\\right) \\sin{\\left(x \\right)} + \\left(\\frac{\\sin{\\left(x \\right)}}{2} + \\frac{\\cos{\\left(x \\right)}}{2}\\right)^{2} \\cos{\\left(x \\right)}$"
      ],
      "text/plain": [
       "(-sin(x) + cos(x))*(sin(x)/2 + cos(x)/2)*sin(x) + (sin(x)/2 + cos(x)/2)**2*cos(x)"
      ]
     },
     "execution_count": 8,
     "metadata": {},
     "output_type": "execute_result"
    }
   ],
   "source": [
    "pro = diff(function) \n",
    "pro"
   ]
  },
  {
   "cell_type": "code",
   "execution_count": 9,
   "id": "d019a407",
   "metadata": {},
   "outputs": [
    {
     "data": {
      "text/latex": [
       "$\\displaystyle \\left\\{2 n \\pi + \\frac{3 \\pi}{4}\\; \\middle|\\; n \\in \\mathbb{Z}\\right\\} \\cup \\left\\{2 n \\pi + \\frac{7 \\pi}{4}\\; \\middle|\\; n \\in \\mathbb{Z}\\right\\} \\cup \\left\\{- i \\left(i \\left(2 n \\pi - \\operatorname{atan}{\\left(\\frac{\\sin{\\left(\\frac{\\operatorname{atan}{\\left(- \\frac{1}{1 + \\sqrt{17}} + \\frac{\\sqrt{17}}{1 + \\sqrt{17}} \\right)}}{2} \\right)}}{\\cos{\\left(\\frac{\\operatorname{atan}{\\left(- \\frac{1}{1 + \\sqrt{17}} + \\frac{\\sqrt{17}}{1 + \\sqrt{17}} \\right)}}{2} \\right)}} \\right)}\\right) + \\log{\\left(\\sqrt{\\sqrt{\\left(\\frac{1}{6} - \\frac{\\sqrt{17}}{6}\\right)^{2} + \\left(\\frac{1}{6} + \\frac{\\sqrt{17}}{6}\\right)^{2}} \\sin^{2}{\\left(\\frac{\\operatorname{atan}{\\left(- \\frac{1}{1 + \\sqrt{17}} + \\frac{\\sqrt{17}}{1 + \\sqrt{17}} \\right)}}{2} \\right)} + \\sqrt{\\left(\\frac{1}{6} - \\frac{\\sqrt{17}}{6}\\right)^{2} + \\left(\\frac{1}{6} + \\frac{\\sqrt{17}}{6}\\right)^{2}} \\cos^{2}{\\left(\\frac{\\operatorname{atan}{\\left(- \\frac{1}{1 + \\sqrt{17}} + \\frac{\\sqrt{17}}{1 + \\sqrt{17}} \\right)}}{2} \\right)}} \\right)}\\right)\\; \\middle|\\; n \\in \\mathbb{Z}\\right\\} \\cup \\left\\{- i \\left(i \\left(2 n \\pi - \\operatorname{atan}{\\left(\\frac{\\sin{\\left(\\frac{\\operatorname{atan}{\\left(- \\frac{1}{1 + \\sqrt{17}} + \\frac{\\sqrt{17}}{1 + \\sqrt{17}} \\right)}}{2} \\right)}}{\\cos{\\left(\\frac{\\operatorname{atan}{\\left(- \\frac{1}{1 + \\sqrt{17}} + \\frac{\\sqrt{17}}{1 + \\sqrt{17}} \\right)}}{2} \\right)}} \\right)} + \\pi\\right) + \\log{\\left(\\sqrt{\\sqrt{\\left(\\frac{1}{6} - \\frac{\\sqrt{17}}{6}\\right)^{2} + \\left(\\frac{1}{6} + \\frac{\\sqrt{17}}{6}\\right)^{2}} \\sin^{2}{\\left(\\frac{\\operatorname{atan}{\\left(- \\frac{1}{1 + \\sqrt{17}} + \\frac{\\sqrt{17}}{1 + \\sqrt{17}} \\right)}}{2} \\right)} + \\sqrt{\\left(\\frac{1}{6} - \\frac{\\sqrt{17}}{6}\\right)^{2} + \\left(\\frac{1}{6} + \\frac{\\sqrt{17}}{6}\\right)^{2}} \\cos^{2}{\\left(\\frac{\\operatorname{atan}{\\left(- \\frac{1}{1 + \\sqrt{17}} + \\frac{\\sqrt{17}}{1 + \\sqrt{17}} \\right)}}{2} \\right)}} \\right)}\\right)\\; \\middle|\\; n \\in \\mathbb{Z}\\right\\} \\cup \\left\\{- i \\left(i \\left(2 n \\pi - \\operatorname{atan}{\\left(\\frac{\\cos{\\left(\\frac{\\operatorname{atan}{\\left(\\frac{\\sqrt{17}}{1 - \\sqrt{17}} + \\frac{1}{1 - \\sqrt{17}} \\right)}}{2} \\right)}}{\\sin{\\left(\\frac{\\operatorname{atan}{\\left(\\frac{\\sqrt{17}}{1 - \\sqrt{17}} + \\frac{1}{1 - \\sqrt{17}} \\right)}}{2} \\right)}} \\right)}\\right) + \\log{\\left(\\sqrt{\\sqrt{\\left(\\frac{1}{6} - \\frac{\\sqrt{17}}{6}\\right)^{2} + \\left(\\frac{1}{6} + \\frac{\\sqrt{17}}{6}\\right)^{2}} \\sin^{2}{\\left(\\frac{\\operatorname{atan}{\\left(\\frac{\\sqrt{17}}{1 - \\sqrt{17}} + \\frac{1}{1 - \\sqrt{17}} \\right)}}{2} \\right)} + \\sqrt{\\left(\\frac{1}{6} - \\frac{\\sqrt{17}}{6}\\right)^{2} + \\left(\\frac{1}{6} + \\frac{\\sqrt{17}}{6}\\right)^{2}} \\cos^{2}{\\left(\\frac{\\operatorname{atan}{\\left(\\frac{\\sqrt{17}}{1 - \\sqrt{17}} + \\frac{1}{1 - \\sqrt{17}} \\right)}}{2} \\right)}} \\right)}\\right)\\; \\middle|\\; n \\in \\mathbb{Z}\\right\\} \\cup \\left\\{- i \\left(i \\left(2 n \\pi - \\pi - \\operatorname{atan}{\\left(\\frac{\\cos{\\left(\\frac{\\operatorname{atan}{\\left(\\frac{\\sqrt{17}}{1 - \\sqrt{17}} + \\frac{1}{1 - \\sqrt{17}} \\right)}}{2} \\right)}}{\\sin{\\left(\\frac{\\operatorname{atan}{\\left(\\frac{\\sqrt{17}}{1 - \\sqrt{17}} + \\frac{1}{1 - \\sqrt{17}} \\right)}}{2} \\right)}} \\right)}\\right) + \\log{\\left(\\sqrt{\\sqrt{\\left(\\frac{1}{6} - \\frac{\\sqrt{17}}{6}\\right)^{2} + \\left(\\frac{1}{6} + \\frac{\\sqrt{17}}{6}\\right)^{2}} \\sin^{2}{\\left(\\frac{\\operatorname{atan}{\\left(\\frac{\\sqrt{17}}{1 - \\sqrt{17}} + \\frac{1}{1 - \\sqrt{17}} \\right)}}{2} \\right)} + \\sqrt{\\left(\\frac{1}{6} - \\frac{\\sqrt{17}}{6}\\right)^{2} + \\left(\\frac{1}{6} + \\frac{\\sqrt{17}}{6}\\right)^{2}} \\cos^{2}{\\left(\\frac{\\operatorname{atan}{\\left(\\frac{\\sqrt{17}}{1 - \\sqrt{17}} + \\frac{1}{1 - \\sqrt{17}} \\right)}}{2} \\right)}} \\right)}\\right)\\; \\middle|\\; n \\in \\mathbb{Z}\\right\\}$"
      ],
      "text/plain": [
       "Union(ImageSet(Lambda(_n, 2*_n*pi + 3*pi/4), Integers), ImageSet(Lambda(_n, 2*_n*pi + 7*pi/4), Integers), ImageSet(Lambda(_n, -I*(I*(2*_n*pi - atan(sin(atan(-1/(1 + sqrt(17)) + sqrt(17)/(1 + sqrt(17)))/2)/cos(atan(-1/(1 + sqrt(17)) + sqrt(17)/(1 + sqrt(17)))/2))) + log(sqrt(sqrt((1/6 - sqrt(17)/6)**2 + (1/6 + sqrt(17)/6)**2)*sin(atan(-1/(1 + sqrt(17)) + sqrt(17)/(1 + sqrt(17)))/2)**2 + sqrt((1/6 - sqrt(17)/6)**2 + (1/6 + sqrt(17)/6)**2)*cos(atan(-1/(1 + sqrt(17)) + sqrt(17)/(1 + sqrt(17)))/2)**2)))), Integers), ImageSet(Lambda(_n, -I*(I*(2*_n*pi - atan(cos(atan(sqrt(17)/(1 - sqrt(17)) + 1/(1 - sqrt(17)))/2)/sin(atan(sqrt(17)/(1 - sqrt(17)) + 1/(1 - sqrt(17)))/2))) + log(sqrt(sqrt((1/6 - sqrt(17)/6)**2 + (1/6 + sqrt(17)/6)**2)*sin(atan(sqrt(17)/(1 - sqrt(17)) + 1/(1 - sqrt(17)))/2)**2 + sqrt((1/6 - sqrt(17)/6)**2 + (1/6 + sqrt(17)/6)**2)*cos(atan(sqrt(17)/(1 - sqrt(17)) + 1/(1 - sqrt(17)))/2)**2)))), Integers), ImageSet(Lambda(_n, -I*(I*(2*_n*pi - pi - atan(cos(atan(sqrt(17)/(1 - sqrt(17)) + 1/(1 - sqrt(17)))/2)/sin(atan(sqrt(17)/(1 - sqrt(17)) + 1/(1 - sqrt(17)))/2))) + log(sqrt(sqrt((1/6 - sqrt(17)/6)**2 + (1/6 + sqrt(17)/6)**2)*sin(atan(sqrt(17)/(1 - sqrt(17)) + 1/(1 - sqrt(17)))/2)**2 + sqrt((1/6 - sqrt(17)/6)**2 + (1/6 + sqrt(17)/6)**2)*cos(atan(sqrt(17)/(1 - sqrt(17)) + 1/(1 - sqrt(17)))/2)**2)))), Integers), ImageSet(Lambda(_n, -I*(I*(2*_n*pi - atan(sin(atan(-1/(1 + sqrt(17)) + sqrt(17)/(1 + sqrt(17)))/2)/cos(atan(-1/(1 + sqrt(17)) + sqrt(17)/(1 + sqrt(17)))/2)) + pi) + log(sqrt(sqrt((1/6 - sqrt(17)/6)**2 + (1/6 + sqrt(17)/6)**2)*sin(atan(-1/(1 + sqrt(17)) + sqrt(17)/(1 + sqrt(17)))/2)**2 + sqrt((1/6 - sqrt(17)/6)**2 + (1/6 + sqrt(17)/6)**2)*cos(atan(-1/(1 + sqrt(17)) + sqrt(17)/(1 + sqrt(17)))/2)**2)))), Integers))"
      ]
     },
     "execution_count": 9,
     "metadata": {},
     "output_type": "execute_result"
    }
   ],
   "source": [
    "a = solveset(pro, x)\n",
    "a"
   ]
  },
  {
   "cell_type": "code",
   "execution_count": 10,
   "id": "fa150320",
   "metadata": {},
   "outputs": [
    {
     "data": {
      "text/latex": [
       "$\\displaystyle \\left(-\\infty, -1\\right)$"
      ],
      "text/plain": [
       "Interval.open(-oo, -1)"
      ]
     },
     "execution_count": 10,
     "metadata": {},
     "output_type": "execute_result"
    }
   ],
   "source": [
    "Interval.open(-oo, -1) "
   ]
  },
  {
   "cell_type": "markdown",
   "id": "cd67daf6",
   "metadata": {},
   "source": [
    "**Построение графика**"
   ]
  },
  {
   "cell_type": "code",
   "execution_count": 11,
   "id": "2191d7e9",
   "metadata": {},
   "outputs": [
    {
     "data": {
      "image/png": "[encoded data removed]",
      "text/plain": [
       "<Figure size 640x480 with 1 Axes>"
      ]
     },
     "metadata": {},
     "output_type": "display_data"
    }
   ],
   "source": [
    "graf = plot(function, (x,-10,10)) "
   ]
  },
  {
   "cell_type": "markdown",
   "id": "2896cc31",
   "metadata": {},
   "source": [
    "**Вычисление вершины**"
   ]
  },
  {
   "cell_type": "code",
   "execution_count": 13,
   "id": "1b1d9451",
   "metadata": {},
   "outputs": [
    {
     "name": "stdout",
     "output_type": "stream",
     "text": [
      "x = x, y =(sin(x)/2 + cos(x)/2)**2*sin(x)\n",
      "x = x, y = 0.25*(sin(x) + cos(x))**2*sin(x)\n",
      "\n"
     ]
    }
   ],
   "source": [
    "y = (sin(x)/2 + cos(x)/2) ** 2 * sin(x)\n",
    "print(f'x = {x}, y ={y}')\n",
    "print(f'x = {x.evalf()}, y = {y.evalf()}')\n",
    "print()"
   ]
  },
  {
   "cell_type": "markdown",
   "id": "00481515",
   "metadata": {},
   "source": [
    "**Определение промежутков, на котором f > 0**"
   ]
  },
  {
   "cell_type": "code",
   "execution_count": 16,
   "id": "2044c1bb",
   "metadata": {},
   "outputs": [
    {
     "name": "stdout",
     "output_type": "stream",
     "text": [
      "                    3⋅π\n",
      "x > 0 ∧ x < π ∧ x ≠ ───\n",
      "                     4 \n"
     ]
    }
   ],
   "source": [
    "pprint(solve(function > 0, x), use_unicode=True)"
   ]
  },
  {
   "cell_type": "markdown",
   "id": "27d6ef2c",
   "metadata": {},
   "source": [
    "**Определение промежутков, на котором f < 0**"
   ]
  },
  {
   "cell_type": "code",
   "execution_count": 17,
   "id": "6c1240d5",
   "metadata": {},
   "outputs": [
    {
     "name": "stdout",
     "output_type": "stream",
     "text": [
      "                      7⋅π\n",
      "x > π ∧ x < 2⋅π ∧ x ≠ ───\n",
      "                       4 \n"
     ]
    }
   ],
   "source": [
    "pprint(solve(function < 0, x), use_unicode=True) "
   ]
  },
  {
   "cell_type": "code",
   "execution_count": null,
   "id": "9f18370c",
   "metadata": {},
   "outputs": [],
   "source": []
  }
 ],
 "metadata": {
  "kernelspec": {
   "display_name": "Python 3 (ipykernel)",
   "language": "python",
   "name": "python3"
  },
  "language_info": {
   "codemirror_mode": {
    "name": "ipython",
    "version": 3
   },
   "file_extension": ".py",
   "mimetype": "text/x-python",
   "name": "python",
   "nbconvert_exporter": "python",
   "pygments_lexer": "ipython3",
   "version": "3.9.13"
  }
 },
 "nbformat": 4,
 "nbformat_minor": 5
}
